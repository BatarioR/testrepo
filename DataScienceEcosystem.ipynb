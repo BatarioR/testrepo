{
  "metadata": {
    "kernelspec": {
      "name": "python",
      "display_name": "Pyolite",
      "language": "python"
    },
    "language_info": {
      "codemirror_mode": {
        "name": "python",
        "version": 3
      },
      "file_extension": ".py",
      "mimetype": "text/x-python",
      "name": "python",
      "nbconvert_exporter": "python",
      "pygments_lexer": "ipython3",
      "version": "3.8"
    }
  },
  "nbformat_minor": 5,
  "nbformat": 4,
  "cells": [
    {
      "cell_type": "markdown",
      "source": "# Data Science Tools and Ecosystem",
      "metadata": {},
      "id": "6edf4dd2"
    },
    {
      "cell_type": "markdown",
      "source": "Exercise 3: Jupyter Notebook is an open-source web application that combines codes, equations, visualization, and more. Below will be a summarization of different kinds of Data Science Tools and its features.",
      "metadata": {},
      "id": "61c887b5"
    },
    {
      "cell_type": "markdown",
      "source": "Exercise 4: Some of the popular languages that Data Scientists use are:\n\n1. Python\n2. R\n3. SQL",
      "metadata": {},
      "id": "6c4e3932"
    },
    {
      "cell_type": "markdown",
      "source": "Exercise 5: Some of the commonly used libraries used by Data Scientists include:\n\n1. Few Libraries in Python\n* Pandas\n* NumPy\n* SciPy\n2. Few Libraries in R\n* dplyr\n* stringr\n* ggplot\n3. Few Libraries in Java\n* Weka\n* Java-ML\n* Apache MLlib",
      "metadata": {},
      "id": "0f599e87"
    },
    {
      "cell_type": "markdown",
      "source": "Exercise 6:\n\n| Data Science Tools |\n| ------------------ |\n| MySQL |\n| GitHub |\n| Apache Spark |",
      "metadata": {},
      "id": "4056a278"
    },
    {
      "cell_type": "markdown",
      "source": "### Exercise 7: Below are a few examples of evaluating arithmetic expressions in Python.",
      "metadata": {},
      "id": "97a7de8a"
    },
    {
      "cell_type": "code",
      "source": "# Exercise 8: This a simple arithmetic expression to multiply then add integers.\n\n(3*4) + 5",
      "metadata": {},
      "execution_count": 1,
      "outputs": [
        {
          "execution_count": 1,
          "output_type": "execute_result",
          "data": {
            "text/plain": [
              "17"
            ]
          },
          "metadata": {}
        }
      ],
      "id": "e03d9f55"
    },
    {
      "cell_type": "code",
      "source": "# This will convert 200 minutes to hours by dividing by 60\nmin_hr_tm = 200 / 60\n\nprint (min_hr_tm)",
      "metadata": {},
      "execution_count": 2,
      "outputs": [
        {
          "name": "stdout",
          "output_type": "stream",
          "text": "3.3333333333333335\n"
        }
      ],
      "id": "89e2df25"
    },
    {
      "cell_type": "markdown",
      "source": "**Excercise 10: Objectives:**\n\nSummary of Python\n * Powerhouse of a language\n * Uses clear and readable syntax\n * Can be used for NLP and NLTK\n\nSummary of R\n * Free software\n * Array-oriented syntax makes it easier to translate from math to code.\n * Stronger object-oriented programming facilities\n \nSummary of SQL\n * Useful in handling structured data\n * Data can be accessed directly without needing to copy it separately.\n * You can apply your SQL knowledge to many other databases easily.",
      "metadata": {},
      "id": "84295c79"
    },
    {
      "cell_type": "markdown",
      "source": "## Author\nRose Mary Belle Batario",
      "metadata": {},
      "id": "82b910dc"
    },
    {
      "cell_type": "code",
      "source": "",
      "metadata": {},
      "execution_count": null,
      "outputs": [],
      "id": "559b6c3a"
    }
  ]
}